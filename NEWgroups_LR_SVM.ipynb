{
 "cells": [
  {
   "cell_type": "markdown",
   "metadata": {
    "collapsed": false
   },
   "source": [
    "   ### 20Newgroup Linear and SVM classification with Bag Of Words, Bigrams, TF-Idf\n"
   ]
  },
  {
   "cell_type": "code",
   "execution_count": 20,
   "metadata": {
    "collapsed": false
   },
   "outputs": [],
   "source": [
    "# import required packages\n",
    "import pandas as pd\n",
    "import numpy as np\n",
    "import os\n",
    "from pandas import Series, DataFrame"
   ]
  },
  {
   "cell_type": "code",
   "execution_count": 21,
   "metadata": {
    "collapsed": false
   },
   "outputs": [
    {
     "data": {
      "text/html": [
       "<div>\n",
       "<table border=\"1\" class=\"dataframe\">\n",
       "  <thead>\n",
       "    <tr style=\"text-align: right;\">\n",
       "      <th></th>\n",
       "      <th>phrase_id</th>\n",
       "      <th>review</th>\n",
       "      <th>group_id</th>\n",
       "    </tr>\n",
       "  </thead>\n",
       "  <tbody>\n",
       "    <tr>\n",
       "      <th>0</th>\n",
       "      <td>1</td>\n",
       "      <td>[b'From: mathew &lt;mathew@mantis.co.uk&gt;\\n', b'Su...</td>\n",
       "      <td>0</td>\n",
       "    </tr>\n",
       "    <tr>\n",
       "      <th>1</th>\n",
       "      <td>2</td>\n",
       "      <td>[b'From: mathew &lt;mathew@mantis.co.uk&gt;\\n', b'Su...</td>\n",
       "      <td>0</td>\n",
       "    </tr>\n",
       "    <tr>\n",
       "      <th>2</th>\n",
       "      <td>3</td>\n",
       "      <td>[b'From: I3150101@dbstu1.rz.tu-bs.de (Benedikt...</td>\n",
       "      <td>0</td>\n",
       "    </tr>\n",
       "    <tr>\n",
       "      <th>3</th>\n",
       "      <td>4</td>\n",
       "      <td>[b'From: mathew &lt;mathew@mantis.co.uk&gt;\\n', b'Su...</td>\n",
       "      <td>0</td>\n",
       "    </tr>\n",
       "    <tr>\n",
       "      <th>4</th>\n",
       "      <td>5</td>\n",
       "      <td>[b'From: strom@Watson.Ibm.Com (Rob Strom)\\n', ...</td>\n",
       "      <td>0</td>\n",
       "    </tr>\n",
       "  </tbody>\n",
       "</table>\n",
       "</div>"
      ],
      "text/plain": [
       "   phrase_id                                             review  group_id\n",
       "0          1  [b'From: mathew <mathew@mantis.co.uk>\\n', b'Su...         0\n",
       "1          2  [b'From: mathew <mathew@mantis.co.uk>\\n', b'Su...         0\n",
       "2          3  [b'From: I3150101@dbstu1.rz.tu-bs.de (Benedikt...         0\n",
       "3          4  [b'From: mathew <mathew@mantis.co.uk>\\n', b'Su...         0\n",
       "4          5  [b'From: strom@Watson.Ibm.Com (Rob Strom)\\n', ...         0"
      ]
     },
     "execution_count": 21,
     "metadata": {},
     "output_type": "execute_result"
    }
   ],
   "source": [
    "# Fetch Csv train traing data\n",
    "group_train = pd.read_csv(\"input/Group20_combined_data/NewGroup_data_train.txt\", sep=\"\\t\", header = None, names= ['phrase_id', 'review', 'group_id'])\n",
    "group_train.head()"
   ]
  },
  {
   "cell_type": "code",
   "execution_count": 22,
   "metadata": {
    "collapsed": false
   },
   "outputs": [
    {
     "data": {
      "text/html": [
       "<div>\n",
       "<table border=\"1\" class=\"dataframe\">\n",
       "  <thead>\n",
       "    <tr style=\"text-align: right;\">\n",
       "      <th></th>\n",
       "      <th>phrase_id</th>\n",
       "      <th>review</th>\n",
       "      <th>group_id</th>\n",
       "    </tr>\n",
       "  </thead>\n",
       "  <tbody>\n",
       "    <tr>\n",
       "      <th>0</th>\n",
       "      <td>1</td>\n",
       "      <td>[b'From: decay@cbnewsj.cb.att.com (dean.kaflow...</td>\n",
       "      <td>0</td>\n",
       "    </tr>\n",
       "    <tr>\n",
       "      <th>1</th>\n",
       "      <td>2</td>\n",
       "      <td>[b'From: cfaehl@vesta.unm.edu (Chris Faehl)\\n'...</td>\n",
       "      <td>0</td>\n",
       "    </tr>\n",
       "    <tr>\n",
       "      <th>2</th>\n",
       "      <td>3</td>\n",
       "      <td>[b'From: mathew &lt;mathew@mantis.co.uk&gt;\\n', b'Su...</td>\n",
       "      <td>0</td>\n",
       "    </tr>\n",
       "    <tr>\n",
       "      <th>3</th>\n",
       "      <td>4</td>\n",
       "      <td>[b'From: dps@nasa.kodak.com (Dan Schaertel,,,)...</td>\n",
       "      <td>0</td>\n",
       "    </tr>\n",
       "    <tr>\n",
       "      <th>4</th>\n",
       "      <td>5</td>\n",
       "      <td>[b'From: halat@panther.bears (Jim Halat)\\n', b...</td>\n",
       "      <td>0</td>\n",
       "    </tr>\n",
       "  </tbody>\n",
       "</table>\n",
       "</div>"
      ],
      "text/plain": [
       "   phrase_id                                             review  group_id\n",
       "0          1  [b'From: decay@cbnewsj.cb.att.com (dean.kaflow...         0\n",
       "1          2  [b'From: cfaehl@vesta.unm.edu (Chris Faehl)\\n'...         0\n",
       "2          3  [b'From: mathew <mathew@mantis.co.uk>\\n', b'Su...         0\n",
       "3          4  [b'From: dps@nasa.kodak.com (Dan Schaertel,,,)...         0\n",
       "4          5  [b'From: halat@panther.bears (Jim Halat)\\n', b...         0"
      ]
     },
     "execution_count": 22,
     "metadata": {},
     "output_type": "execute_result"
    }
   ],
   "source": [
    "# Fetch Csv test data \n",
    "group_test = pd.read_csv(\"input/Group20_combined_data/NewGroup_data_test.txt\", sep=\"\\t\", header = None, names= ['phrase_id', 'review', 'group_id'])\n",
    "group_test.head()"
   ]
  },
  {
   "cell_type": "code",
   "execution_count": 24,
   "metadata": {
    "collapsed": false
   },
   "outputs": [
    {
     "data": {
      "text/plain": [
       "(7532, 4)"
      ]
     },
     "execution_count": 24,
     "metadata": {},
     "output_type": "execute_result"
    }
   ],
   "source": [
    "# maping cateogories to train dataframe\n",
    "\n",
    "group_train['category'] = group_train.group_id.map({0:'alt', 1:'comp',2:'comp', 3:'comp', 4:'comp',5:'comp',6:'misc', 7:'rec', 8:'rec',9:'rec', 10:'rec', 11:'sci',\n",
    "                                    12:'sci', 13:'sci', 14:'sci', 15:'religion', \n",
    "                                    16:'politics', 17:'politics', 18:'politics', 19:'religion'})\n",
    "\n",
    "# maping cateogories to test dataframe\n",
    "\n",
    "group_test['category'] = group_test.group_id.map({0:'alt', 1:'comp',2:'comp', 3:'comp', 4:'comp',5:'comp',6:'misc', 7:'rec', 8:'rec',9:'rec', 10:'rec', 11:'sci',\n",
    "                                    12:'sci', 13:'sci', 14:'sci', 15:'religion', \n",
    "                                    16:'politics', 17:'politics', 18:'politics', 19:'religion'})\n",
    "\n",
    "group_test.shape"
   ]
  },
  {
   "cell_type": "code",
   "execution_count": 26,
   "metadata": {
    "collapsed": false
   },
   "outputs": [
    {
     "name": "stdout",
     "output_type": "stream",
     "text": [
      "(7876,)\n",
      "(5244,)\n"
     ]
    }
   ],
   "source": [
    "# select categories required \n",
    "group_train_category = group_train[(group_train.category == 'comp') | (group_train.category == 'rec') | (group_train.category == 'politics') | (group_train.category == 'religion')]\n",
    "group_test_category = group_test[(group_test.category == 'comp') | (group_test.category == 'rec') | (group_test.category == 'politics') | (group_test.category == 'religion')]\n",
    "\n",
    "\n",
    "X_train = group_train_category.review\n",
    "X_test = group_test_category.review\n",
    "\n",
    "print(X_train.shape)\n",
    "print(X_test.shape)"
   ]
  },
  {
   "cell_type": "code",
   "execution_count": 30,
   "metadata": {
    "collapsed": true
   },
   "outputs": [],
   "source": [
    "# Encode the target Y \n",
    "\n",
    "from sklearn.preprocessing import LabelEncoder\n",
    "\n",
    "Label_encoded = LabelEncoder()\n",
    "\n",
    "Y_train_label_encoded = Label_encoded.fit_transform(group_train_category['category'].values)\n",
    "Y_test_label_encoded = Label_encoded.fit_transform(group_test_category['category'].values)"
   ]
  },
  {
   "cell_type": "markdown",
   "metadata": {},
   "source": [
    "tokenize_test_20New(vect) is a function that \n",
    " - tokenize train and test data\n",
    " - implementsts multi-class linear regression "
   ]
  },
  {
   "cell_type": "code",
   "execution_count": 27,
   "metadata": {
    "collapsed": false
   },
   "outputs": [],
   "source": [
    "def tokenize_test_20New(vect):\n",
    "    from sklearn.linear_model import LogisticRegression\n",
    "    from sklearn.metrics import accuracy_score\n",
    "\n",
    "    # tokenize X_train and X-test\n",
    "    X_train_dtm = vect.fit_transform(X_train)\n",
    "    X_test_dtm = vect.transform(X_test)\n",
    "    \n",
    "    # fit and transform multi-class linear regression\n",
    "    LR = LogisticRegression(multi_class= 'ovr')\n",
    "    LR.fit(X_train_dtm, Y_train_label_encoded)\n",
    "\n",
    "    Y_predicted = LR.predict(X_test_dtm)\n",
    "\n",
    "    print ('accracy:', accuracy_score(Y_test_label_encoded, Y_predicted))\n",
    "\n"
   ]
  },
  {
   "cell_type": "code",
   "execution_count": 28,
   "metadata": {
    "collapsed": false
   },
   "outputs": [
    {
     "name": "stdout",
     "output_type": "stream",
     "text": [
      "accracy: 0.944889397407\n"
     ]
    }
   ],
   "source": [
    "# Bag of Words Linear Regression\n",
    "from sklearn.feature_extraction.text import CountVectorizer\n",
    "vect = CountVectorizer()\n",
    "tokenize_test_20New(vect)"
   ]
  },
  {
   "cell_type": "code",
   "execution_count": 32,
   "metadata": {
    "collapsed": false
   },
   "outputs": [
    {
     "name": "stdout",
     "output_type": "stream",
     "text": [
      "accracy: 0.941075514874\n"
     ]
    }
   ],
   "source": [
    "# include 1-grams and 2-grams\n",
    "vect = CountVectorizer(ngram_range=(1, 2))\n",
    "tokenize_test_20New(vect)"
   ]
  },
  {
   "cell_type": "code",
   "execution_count": 173,
   "metadata": {
    "collapsed": false
   },
   "outputs": [
    {
     "name": "stdout",
     "output_type": "stream",
     "text": [
      "('accracy:', 0.93821510297482835)\n"
     ]
    }
   ],
   "source": [
    "# Average Embedding with TF-idf weights\n",
    "from sklearn.feature_extraction.text import TfidfVectorizer\n",
    "vect = TfidfVectorizer()\n",
    "tokenize_test_20New(vect)"
   ]
  },
  {
   "cell_type": "markdown",
   "metadata": {},
   "source": [
    "tokenize_test_20New_svm(vect) is a function that \n",
    " - tokenize train and test data\n",
    " - implementsts Support Vector Machine Classification"
   ]
  },
  {
   "cell_type": "code",
   "execution_count": 21,
   "metadata": {
    "collapsed": false
   },
   "outputs": [],
   "source": [
    "def tokenize_test_20New_svm(vect):\n",
    "    from sklearn import svm\n",
    "    from sklearn.metrics import accuracy_score\n",
    "    \n",
    "    \n",
    "    # tokenize X_train and X-test\n",
    "    X_train_dtm = vect.fit_transform(X_train)\n",
    "    X_test_dtm = vect.transform(X_test)\n",
    "    \n",
    "\n",
    "    # fit and transform Support Vector Machine Classification\n",
    "    lin_clf = svm.LinearSVC()\n",
    "    lin_clf.fit(X_train_dtm, Y_train_label_encoded)\n",
    "    Y_predicted = lin_clf.predict(X_test_dtm)\n",
    "\n",
    "    print ('accracy:', accuracy_score(Y_test_label_encoded, Y_predicted))"
   ]
  },
  {
   "cell_type": "code",
   "execution_count": 22,
   "metadata": {
    "collapsed": false
   },
   "outputs": [
    {
     "name": "stdout",
     "output_type": "stream",
     "text": [
      "accracy: 0.936880244088\n"
     ]
    }
   ],
   "source": [
    "# BAG OF WORDS SUPPORT VECTOR MACHINE CLASSIFICATION\n",
    "\n",
    "from sklearn.feature_extraction.text import CountVectorizer\n",
    "vect = CountVectorizer()\n",
    "tokenize_test_20New_svm(vect)"
   ]
  },
  {
   "cell_type": "code",
   "execution_count": 23,
   "metadata": {
    "collapsed": false
   },
   "outputs": [
    {
     "name": "stdout",
     "output_type": "stream",
     "text": [
      "accracy: 0.941075514874\n"
     ]
    }
   ],
   "source": [
    "# include 1-grams and 2-grams\n",
    "vect = CountVectorizer(ngram_range=(1, 2))\n",
    "tokenize_test_20New_svm(vect)"
   ]
  }
 ],
 "metadata": {
  "anaconda-cloud": {},
  "kernelspec": {
   "display_name": "Python 3",
   "language": "python",
   "name": "python3"
  },
  "language_info": {
   "codemirror_mode": {
    "name": "ipython",
    "version": 3
   },
   "file_extension": ".py",
   "mimetype": "text/x-python",
   "name": "python",
   "nbconvert_exporter": "python",
   "pygments_lexer": "ipython3",
   "version": "3.5.2"
  }
 },
 "nbformat": 4,
 "nbformat_minor": 1
}
