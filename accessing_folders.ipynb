{
 "cells": [
  {
   "cell_type": "markdown",
   "metadata": {},
   "source": [
    "### Accessing files from folders of folder\n",
    " \n",
    "accessing_folders_to_csv(path, file) is a function that access the data from text files and write in to a file\n",
    " - path = path of the file\n",
    " - file = Name of the file open in write mode\n",
    "\n",
    "   "
   ]
  },
  {
   "cell_type": "code",
   "execution_count": 16,
   "metadata": {
    "collapsed": true
   },
   "outputs": [],
   "source": [
    "import os\n",
    "def accessing_folders_to_csv(path, file):\n",
    "    dirname_number = 0\n",
    "    file_number = 1\n",
    "    writefile = open(file, 'w')\n",
    "    for dirname, subdir, filename in os.walk(path, topdown=True):\n",
    "        if dirname != path:\n",
    "            for file_nam in filename:\n",
    "                f = os.path.join(dirname, file_nam)\n",
    "                with open(f,'rb') as main:\n",
    "                    contents = main.readlines()\n",
    "                    writefile.write(\"{}\\t{}\\t{}\\n\".format(file_number, contents, dirname_number))\n",
    "                    file_number = file_number+1\n",
    "            dirname_number = dirname_number+1\n",
    "    writefile.close()"
   ]
  },
  {
   "cell_type": "code",
   "execution_count": null,
   "metadata": {
    "collapsed": true
   },
   "outputs": [],
   "source": []
  },
  {
   "cell_type": "markdown",
   "metadata": {},
   "source": [
    "Accessing 20Newgrops train data and writing into input/Group20_combined_data/NewGroup_data_train"
   ]
  },
  {
   "cell_type": "code",
   "execution_count": 17,
   "metadata": {
    "collapsed": false
   },
   "outputs": [],
   "source": [
    "path1 = 'input/20news-bydate-train/'\n",
    "file1 = 'input/Group20_combined_data/NewGroup_data_train.txt'\n",
    "accessing_folders_to_csv(path1, file1)"
   ]
  },
  {
   "cell_type": "markdown",
   "metadata": {},
   "source": [
    "Accessing 20Newgrops test data and writing into input/Group20_combined_data/NewGroup_data_test"
   ]
  },
  {
   "cell_type": "code",
   "execution_count": 18,
   "metadata": {
    "collapsed": true
   },
   "outputs": [],
   "source": [
    "path2 = 'input/20news-bydate-test'\n",
    "file2 = 'input/Group20_combined_data/NewGroup_data_test.txt'\n",
    "accessing_folders_to_csv(path2, file2)"
   ]
  }
 ],
 "metadata": {
  "kernelspec": {
   "display_name": "Python 3",
   "language": "python",
   "name": "python3"
  },
  "language_info": {
   "codemirror_mode": {
    "name": "ipython",
    "version": 3
   },
   "file_extension": ".py",
   "mimetype": "text/x-python",
   "name": "python",
   "nbconvert_exporter": "python",
   "pygments_lexer": "ipython3",
   "version": "3.5.2"
  }
 },
 "nbformat": 4,
 "nbformat_minor": 2
}
